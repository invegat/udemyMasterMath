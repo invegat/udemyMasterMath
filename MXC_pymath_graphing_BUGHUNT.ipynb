{
 "cells": [
  {
   "cell_type": "markdown",
   "metadata": {},
   "source": [
    "# Graphing bug hunt!"
   ]
  },
  {
   "cell_type": "code",
   "execution_count": 3,
   "metadata": {
    "ExecuteTime": {
     "end_time": "2019-10-15T01:22:02.240878Z",
     "start_time": "2019-10-15T01:22:02.090647Z"
    }
   },
   "outputs": [],
   "source": [
    "import  matplotlib.pyplot as plt\n",
    "import matplotlib\n",
    "%matplotlib inline"
   ]
  },
  {
   "cell_type": "code",
   "execution_count": null,
   "metadata": {},
   "outputs": [],
   "source": [
    "plt.plot(3,2,'ro')\n",
    "\n",
    "# set axis limits\n",
    "plt.axis('square')\n",
    "plt.axis(-6,6,-6,6)\n",
    "plt.show()"
   ]
  },
  {
   "cell_type": "code",
   "execution_count": null,
   "metadata": {},
   "outputs": [],
   "source": [
    "# plot a line\n",
    "plt.plot([0 3],[0 5])\n",
    "plt.show()"
   ]
  },
  {
   "cell_type": "code",
   "execution_count": null,
   "metadata": {},
   "outputs": [],
   "source": [
    "import numpy as np\n",
    "\n",
    "x = range(-3,4)\n",
    "y = np.zeros(len(x))\n",
    "\n",
    "for i in range(0,len(x)):\n",
    "    y[i] = 2 - x**2\n",
    "\n",
    "plt.plot(x,y,'s-')\n",
    "plt.show()"
   ]
  },
  {
   "cell_type": "code",
   "execution_count": null,
   "metadata": {},
   "outputs": [],
   "source": [
    "# plot two lines\n",
    "plt.plot([-2,3],[4,0],'b')\n",
    "plt.plot([0,3],[-3,3],'r')\n",
    "\n",
    "plt.legend()\n",
    "plt.show()"
   ]
  },
  {
   "cell_type": "code",
   "execution_count": null,
   "metadata": {},
   "outputs": [],
   "source": [
    "randmat = np.random.randn(5,9)\n",
    "\n",
    "# draw a line from lower-left corner to upper-right corner\n",
    "plt.plot([0,4],[8,0],color=(.4,.1,.9),line_width=5)\n",
    "\n",
    "plt.imshow(randmat)\n",
    "plt.set_cmap('Purples')\n",
    "plt.show()"
   ]
  },
  {
   "cell_type": "code",
   "execution_count": null,
   "metadata": {},
   "outputs": [],
   "source": [
    "# plot two lines\n",
    "plt.plot([-2,3],[4,0],'b',label='line1')\n",
    "plt.plot([0,3],[-3,3],'r',label='line2')\n",
    "\n",
    "plt.legend('on')\n",
    "plt.show()"
   ]
  },
  {
   "cell_type": "code",
   "execution_count": null,
   "metadata": {},
   "outputs": [],
   "source": [
    "x = np.linspace(1,4,20)\n",
    "y = x**2/(x-2)\n",
    "\n",
    "plt.plot(x,y)\n",
    "\n",
    "# adjust the x-axis limits according to the first and last points in x\n",
    "plt.xlim(x[0,-1])\n",
    "\n",
    "plt.show()"
   ]
  },
  {
   "cell_type": "code",
   "execution_count": null,
   "metadata": {},
   "outputs": [],
   "source": [
    "x = sym.symbols('x')\n",
    "y = x**2 - 3*x\n",
    "\n",
    "xrange = range(-10,11)\n",
    "\n",
    "for i in range(0,len(xrange)):\n",
    "    plt.plot(xrange[i],y(xrange[i]),'o')\n",
    "        \n",
    "plt.xlabel('x')\n",
    "plt.ylabel('$f(x) = %s$' %sym.latex(y))\n",
    "plt.show()"
   ]
  },
  {
   "cell_type": "code",
   "execution_count": null,
   "metadata": {},
   "outputs": [],
   "source": [
    "x = [-5,5]\n",
    "m = 2\n",
    "b = 1\n",
    "\n",
    "y = m*x+b\n",
    "\n",
    "plt.plot(x,y)\n",
    "plt.show()"
   ]
  },
  {
   "cell_type": "code",
   "execution_count": null,
   "metadata": {},
   "outputs": [],
   "source": [
    "x = range(-20,21)\n",
    "\n",
    "for i in range(0,len(x)):\n",
    "    plt.plot([0,x[i]],[0,abs(x[i])**(1/2)],line_color=(i/len(x),i/len(x),i/len(x))\n",
    "    \n",
    "plt.axis('of')\n",
    "plt.show()"
   ]
  },
  {
   "cell_type": "code",
   "execution_count": null,
   "metadata": {},
   "outputs": [],
   "source": [
    "# draw a checkerboard with purple numbers on top\n",
    "\n",
    "m = 8\n",
    "n = 4\n",
    "\n",
    "# initialize matrix\n",
    "C = np.zeros((m,4))\n",
    "\n",
    "# populate the matrix\n",
    "for i in range(0,m):\n",
    "    for j in range(0,n):\n",
    "        C[i,j] = (-1)**(i+j)\n",
    "        \n",
    "\n",
    "# display some numbers\n",
    "for i in range(0,m):\n",
    "    for j in range(0,n):\n",
    "        plt.text(i,j,i+j,\\\n",
    "                 horizontalalignment='center',verticalalignment='center',\\\n",
    "                 fontdict=dict(color='m'))\n",
    "\n",
    "\n",
    "plt.imshow(C)\n",
    "plt.set_cmap('gray')\n",
    "plt.show()"
   ]
  },
  {
   "cell_type": "code",
   "execution_count": 5,
   "metadata": {
    "ExecuteTime": {
     "end_time": "2019-10-15T01:22:22.324375Z",
     "start_time": "2019-10-15T01:22:22.170675Z"
    }
   },
   "outputs": [
    {
     "data": {
      "image/png": "[encoded data removed]",
      "text/plain": [
       "<Figure size 432x288 with 1 Axes>"
      ]
     },
     "metadata": {
      "needs_background": "light"
     },
     "output_type": "display_data"
    }
   ],
   "source": [
    "x_ =[]\n",
    "y_ =[]\n",
    "for x in range(-10,12):\n",
    "  y =  x**2 - 3*x\n",
    "  x_.append(x)\n",
    "  y_.append(y)\n",
    "  \n",
    "plt.plot(x_,y_);\n"
   ]
  },
  {
   "cell_type": "code",
   "execution_count": null,
   "metadata": {},
   "outputs": [],
   "source": []
  }
 ],
 "metadata": {
  "kernelspec": {
   "display_name": "7day",
   "language": "python",
   "name": "7day"
  },
  "language_info": {
   "codemirror_mode": {
    "name": "ipython",
    "version": 3
   },
   "file_extension": ".py",
   "mimetype": "text/x-python",
   "name": "python",
   "nbconvert_exporter": "python",
   "pygments_lexer": "ipython3",
   "version": "3.7.4"
  },
  "latex_envs": {
   "LaTeX_envs_menu_present": true,
   "autoclose": false,
   "autocomplete": true,
   "bibliofile": "biblio.bib",
   "cite_by": "apalike",
   "current_citInitial": 1,
   "eqLabelWithNumbers": true,
   "eqNumInitial": 1,
   "hotkeys": {
    "equation": "Ctrl-E",
    "itemize": "Ctrl-I"
   },
   "labels_anchors": false,
   "latex_user_defs": false,
   "report_style_numbering": false,
   "user_envs_cfg": false
  }
 },
 "nbformat": 4,
 "nbformat_minor": 2
}
