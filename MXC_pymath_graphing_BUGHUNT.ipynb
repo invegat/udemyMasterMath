{
 "cells": [
  {
   "cell_type": "markdown",
   "metadata": {},
   "source": [
    "# Graphing bug hunt!"
   ]
  },
  {
   "cell_type": "code",
   "execution_count": 123,
   "metadata": {
    "ExecuteTime": {
     "end_time": "2019-10-17T18:54:59.384000Z",
     "start_time": "2019-10-17T18:54:59.376720Z"
    }
   },
   "outputs": [],
   "source": [
    "import  matplotlib.pyplot as plt\n",
    "import matplotlib\n",
    "import numpy as np\n",
    "from copy import deepcopy\n",
    "import random\n",
    "import math\n",
    "import sys\n",
    "import functools\n",
    "%matplotlib inline"
   ]
  },
  {
   "cell_type": "code",
   "execution_count": null,
   "metadata": {},
   "outputs": [],
   "source": [
    "plt.plot(3,2,'ro')\n",
    "\n",
    "# set axis limits\n",
    "plt.axis('square')\n",
    "plt.axis(-6,6,-6,6)\n",
    "plt.show()"
   ]
  },
  {
   "cell_type": "code",
   "execution_count": null,
   "metadata": {},
   "outputs": [],
   "source": [
    "# plot a line\n",
    "plt.plot([0 3],[0 5])\n",
    "plt.show()"
   ]
  },
  {
   "cell_type": "code",
   "execution_count": null,
   "metadata": {},
   "outputs": [],
   "source": [
    "import numpy as np\n",
    "\n",
    "x = range(-3,4)\n",
    "y = np.zeros(len(x))\n",
    "\n",
    "for i in range(0,len(x)):\n",
    "    y[i] = 2 - x**2\n",
    "\n",
    "plt.plot(x,y,'s-')\n",
    "plt.show()"
   ]
  },
  {
   "cell_type": "code",
   "execution_count": null,
   "metadata": {},
   "outputs": [],
   "source": [
    "# plot two lines\n",
    "plt.plot([-2,3],[4,0],'b')\n",
    "plt.plot([0,3],[-3,3],'r')\n",
    "\n",
    "plt.legend()\n",
    "plt.show()"
   ]
  },
  {
   "cell_type": "code",
   "execution_count": null,
   "metadata": {},
   "outputs": [],
   "source": [
    "randmat = np.random.randn(5,9)\n",
    "\n",
    "# draw a line from lower-left corner to upper-right corner\n",
    "plt.plot([0,4],[8,0],color=(.4,.1,.9),line_width=5)\n",
    "\n",
    "plt.imshow(randmat)\n",
    "plt.set_cmap('Purples')\n",
    "plt.show()"
   ]
  },
  {
   "cell_type": "code",
   "execution_count": null,
   "metadata": {},
   "outputs": [],
   "source": [
    "# plot two lines\n",
    "plt.plot([-2,3],[4,0],'b',label='line1')\n",
    "plt.plot([0,3],[-3,3],'r',label='line2')\n",
    "\n",
    "plt.legend('on')\n",
    "plt.show()"
   ]
  },
  {
   "cell_type": "code",
   "execution_count": null,
   "metadata": {},
   "outputs": [],
   "source": [
    "x = np.linspace(1,4,20)\n",
    "y = x**2/(x-2)\n",
    "\n",
    "plt.plot(x,y)\n",
    "\n",
    "# adjust the x-axis limits according to the first and last points in x\n",
    "plt.xlim(x[0,-1])\n",
    "\n",
    "plt.show()"
   ]
  },
  {
   "cell_type": "code",
   "execution_count": 1,
   "metadata": {
    "ExecuteTime": {
     "end_time": "2019-10-16T21:39:53.524672Z",
     "start_time": "2019-10-16T21:39:53.445799Z"
    }
   },
   "outputs": [
    {
     "ename": "NameError",
     "evalue": "name 'sym' is not defined",
     "output_type": "error",
     "traceback": [
      "\u001b[0;31m---------------------------------------------------------------------------\u001b[0m",
      "\u001b[0;31mNameError\u001b[0m                                 Traceback (most recent call last)",
      "\u001b[0;32m<ipython-input-1-f0dec5a9b62a>\u001b[0m in \u001b[0;36m<module>\u001b[0;34m\u001b[0m\n\u001b[0;32m----> 1\u001b[0;31m \u001b[0mx\u001b[0m \u001b[0;34m=\u001b[0m \u001b[0msym\u001b[0m\u001b[0;34m.\u001b[0m\u001b[0msymbols\u001b[0m\u001b[0;34m(\u001b[0m\u001b[0;34m'x'\u001b[0m\u001b[0;34m)\u001b[0m\u001b[0;34m\u001b[0m\u001b[0;34m\u001b[0m\u001b[0m\n\u001b[0m\u001b[1;32m      2\u001b[0m \u001b[0my\u001b[0m \u001b[0;34m=\u001b[0m \u001b[0mx\u001b[0m\u001b[0;34m**\u001b[0m\u001b[0;36m2\u001b[0m \u001b[0;34m-\u001b[0m \u001b[0;36m3\u001b[0m\u001b[0;34m*\u001b[0m\u001b[0mx\u001b[0m\u001b[0;34m\u001b[0m\u001b[0;34m\u001b[0m\u001b[0m\n\u001b[1;32m      3\u001b[0m \u001b[0;34m\u001b[0m\u001b[0m\n\u001b[1;32m      4\u001b[0m \u001b[0mxrange\u001b[0m \u001b[0;34m=\u001b[0m \u001b[0mrange\u001b[0m\u001b[0;34m(\u001b[0m\u001b[0;34m-\u001b[0m\u001b[0;36m10\u001b[0m\u001b[0;34m,\u001b[0m\u001b[0;36m11\u001b[0m\u001b[0;34m)\u001b[0m\u001b[0;34m\u001b[0m\u001b[0;34m\u001b[0m\u001b[0m\n\u001b[1;32m      5\u001b[0m \u001b[0;34m\u001b[0m\u001b[0m\n",
      "\u001b[0;31mNameError\u001b[0m: name 'sym' is not defined"
     ]
    }
   ],
   "source": [
    "x = sym.symbols('x')\n",
    "y = x**2 - 3*x\n",
    "\n",
    "xrange = range(-10,11)\n",
    "\n",
    "for i in range(0,len(xrange)):\n",
    "    plt.plot(xrange[i],y(xrange[i]),'o')\n",
    "        \n",
    "plt.xlabel('x')\n",
    "plt.ylabel('$f(x) = %s$' %sym.latex(y))\n",
    "plt.show()"
   ]
  },
  {
   "cell_type": "code",
   "execution_count": 2,
   "metadata": {
    "ExecuteTime": {
     "end_time": "2019-10-16T21:39:53.652248Z",
     "start_time": "2019-10-16T21:39:53.645162Z"
    }
   },
   "outputs": [
    {
     "ename": "TypeError",
     "evalue": "can only concatenate list (not \"int\") to list",
     "output_type": "error",
     "traceback": [
      "\u001b[0;31m---------------------------------------------------------------------------\u001b[0m",
      "\u001b[0;31mTypeError\u001b[0m                                 Traceback (most recent call last)",
      "\u001b[0;32m<ipython-input-2-4f4d7af2989e>\u001b[0m in \u001b[0;36m<module>\u001b[0;34m\u001b[0m\n\u001b[1;32m      3\u001b[0m \u001b[0mb\u001b[0m \u001b[0;34m=\u001b[0m \u001b[0;36m1\u001b[0m\u001b[0;34m\u001b[0m\u001b[0;34m\u001b[0m\u001b[0m\n\u001b[1;32m      4\u001b[0m \u001b[0;34m\u001b[0m\u001b[0m\n\u001b[0;32m----> 5\u001b[0;31m \u001b[0my\u001b[0m \u001b[0;34m=\u001b[0m \u001b[0mm\u001b[0m\u001b[0;34m*\u001b[0m\u001b[0mx\u001b[0m\u001b[0;34m+\u001b[0m\u001b[0mb\u001b[0m\u001b[0;34m\u001b[0m\u001b[0;34m\u001b[0m\u001b[0m\n\u001b[0m\u001b[1;32m      6\u001b[0m \u001b[0;34m\u001b[0m\u001b[0m\n\u001b[1;32m      7\u001b[0m \u001b[0mplt\u001b[0m\u001b[0;34m.\u001b[0m\u001b[0mplot\u001b[0m\u001b[0;34m(\u001b[0m\u001b[0mx\u001b[0m\u001b[0;34m,\u001b[0m\u001b[0my\u001b[0m\u001b[0;34m)\u001b[0m\u001b[0;34m\u001b[0m\u001b[0;34m\u001b[0m\u001b[0m\n",
      "\u001b[0;31mTypeError\u001b[0m: can only concatenate list (not \"int\") to list"
     ]
    }
   ],
   "source": [
    "x = [-5,5]\n",
    "m = 2\n",
    "b = 1\n",
    "\n",
    "y = m*x+b\n",
    "\n",
    "plt.plot(x,y)\n",
    "plt.show()"
   ]
  },
  {
   "cell_type": "code",
   "execution_count": 3,
   "metadata": {
    "ExecuteTime": {
     "end_time": "2019-10-16T21:39:53.783436Z",
     "start_time": "2019-10-16T21:39:53.777751Z"
    }
   },
   "outputs": [
    {
     "ename": "SyntaxError",
     "evalue": "invalid syntax (<ipython-input-3-04759a581cd7>, line 6)",
     "output_type": "error",
     "traceback": [
      "\u001b[0;36m  File \u001b[0;32m\"<ipython-input-3-04759a581cd7>\"\u001b[0;36m, line \u001b[0;32m6\u001b[0m\n\u001b[0;31m    plt.axis('of')\u001b[0m\n\u001b[0m      ^\u001b[0m\n\u001b[0;31mSyntaxError\u001b[0m\u001b[0;31m:\u001b[0m invalid syntax\n"
     ]
    }
   ],
   "source": [
    "x = range(-20,21)\n",
    "\n",
    "for i in range(0,len(x)):\n",
    "    plt.plot([0,x[i]],[0,abs(x[i])**(1/2)],line_color=(i/len(x),i/len(x),i/len(x))\n",
    "    \n",
    "plt.axis('of')\n",
    "plt.show()"
   ]
  },
  {
   "cell_type": "code",
   "execution_count": 4,
   "metadata": {
    "ExecuteTime": {
     "end_time": "2019-10-16T21:39:53.929884Z",
     "start_time": "2019-10-16T21:39:53.919442Z"
    }
   },
   "outputs": [
    {
     "ename": "NameError",
     "evalue": "name 'np' is not defined",
     "output_type": "error",
     "traceback": [
      "\u001b[0;31m---------------------------------------------------------------------------\u001b[0m",
      "\u001b[0;31mNameError\u001b[0m                                 Traceback (most recent call last)",
      "\u001b[0;32m<ipython-input-4-ce217f33f69c>\u001b[0m in \u001b[0;36m<module>\u001b[0;34m\u001b[0m\n\u001b[1;32m      5\u001b[0m \u001b[0;34m\u001b[0m\u001b[0m\n\u001b[1;32m      6\u001b[0m \u001b[0;31m# initialize matrix\u001b[0m\u001b[0;34m\u001b[0m\u001b[0;34m\u001b[0m\u001b[0;34m\u001b[0m\u001b[0m\n\u001b[0;32m----> 7\u001b[0;31m \u001b[0mC\u001b[0m \u001b[0;34m=\u001b[0m \u001b[0mnp\u001b[0m\u001b[0;34m.\u001b[0m\u001b[0mzeros\u001b[0m\u001b[0;34m(\u001b[0m\u001b[0;34m(\u001b[0m\u001b[0mm\u001b[0m\u001b[0;34m,\u001b[0m\u001b[0;36m4\u001b[0m\u001b[0;34m)\u001b[0m\u001b[0;34m)\u001b[0m\u001b[0;34m\u001b[0m\u001b[0;34m\u001b[0m\u001b[0m\n\u001b[0m\u001b[1;32m      8\u001b[0m \u001b[0;34m\u001b[0m\u001b[0m\n\u001b[1;32m      9\u001b[0m \u001b[0;31m# populate the matrix\u001b[0m\u001b[0;34m\u001b[0m\u001b[0;34m\u001b[0m\u001b[0;34m\u001b[0m\u001b[0m\n",
      "\u001b[0;31mNameError\u001b[0m: name 'np' is not defined"
     ]
    }
   ],
   "source": [
    "# draw a checkerboard with purple numbers on top\n",
    "\n",
    "m = 8\n",
    "n = 4\n",
    "\n",
    "# initialize matrix\n",
    "C = np.zeros((m,4))\n",
    "\n",
    "# populate the matrix\n",
    "for i in range(0,m):\n",
    "    for j in range(0,n):\n",
    "        C[i,j] = (-1)**(i+j)\n",
    "        \n",
    "\n",
    "# display some numbers\n",
    "for i in range(0,m):\n",
    "    for j in range(0,n):\n",
    "        plt.text(i,j,i+j,\\\n",
    "                 horizontalalignment='center',verticalalignment='center',\\\n",
    "                 fontdict=dict(color='m'))\n",
    "\n",
    "\n",
    "plt.imshow(C)\n",
    "plt.set_cmap('gray')\n",
    "plt.show()"
   ]
  },
  {
   "cell_type": "code",
   "execution_count": 5,
   "metadata": {
    "ExecuteTime": {
     "end_time": "2019-10-16T21:39:54.184643Z",
     "start_time": "2019-10-16T21:39:54.176801Z"
    }
   },
   "outputs": [
    {
     "ename": "NameError",
     "evalue": "name 'plt' is not defined",
     "output_type": "error",
     "traceback": [
      "\u001b[0;31m---------------------------------------------------------------------------\u001b[0m",
      "\u001b[0;31mNameError\u001b[0m                                 Traceback (most recent call last)",
      "\u001b[0;32m<ipython-input-5-c3fa8acaa22b>\u001b[0m in \u001b[0;36m<module>\u001b[0;34m\u001b[0m\n\u001b[1;32m      6\u001b[0m   \u001b[0my_\u001b[0m\u001b[0;34m.\u001b[0m\u001b[0mappend\u001b[0m\u001b[0;34m(\u001b[0m\u001b[0my\u001b[0m\u001b[0;34m)\u001b[0m\u001b[0;34m\u001b[0m\u001b[0;34m\u001b[0m\u001b[0m\n\u001b[1;32m      7\u001b[0m \u001b[0;34m\u001b[0m\u001b[0m\n\u001b[0;32m----> 8\u001b[0;31m \u001b[0mplt\u001b[0m\u001b[0;34m.\u001b[0m\u001b[0mplot\u001b[0m\u001b[0;34m(\u001b[0m\u001b[0mx_\u001b[0m\u001b[0;34m,\u001b[0m\u001b[0my_\u001b[0m\u001b[0;34m)\u001b[0m\u001b[0;34m;\u001b[0m\u001b[0;34m\u001b[0m\u001b[0;34m\u001b[0m\u001b[0m\n\u001b[0m",
      "\u001b[0;31mNameError\u001b[0m: name 'plt' is not defined"
     ]
    }
   ],
   "source": [
    "x_ =[]\n",
    "y_ =[]\n",
    "for x in range(-10,12):\n",
    "  y =  x**2 - 3*x\n",
    "  x_.append(x)\n",
    "  y_.append(y)\n",
    "  \n",
    "plt.plot(x_,y_);\n"
   ]
  },
  {
   "cell_type": "code",
   "execution_count": 6,
   "metadata": {
    "ExecuteTime": {
     "end_time": "2019-10-16T21:40:28.334212Z",
     "start_time": "2019-10-16T21:40:28.327189Z"
    }
   },
   "outputs": [
    {
     "ename": "NameError",
     "evalue": "name 'np' is not defined",
     "output_type": "error",
     "traceback": [
      "\u001b[0;31m---------------------------------------------------------------------------\u001b[0m",
      "\u001b[0;31mNameError\u001b[0m                                 Traceback (most recent call last)",
      "\u001b[0;32m<ipython-input-6-ff447fee79f7>\u001b[0m in \u001b[0;36m<module>\u001b[0;34m\u001b[0m\n\u001b[0;32m----> 1\u001b[0;31m \u001b[0mx\u001b[0m \u001b[0;34m=\u001b[0m \u001b[0mnp\u001b[0m\u001b[0;34m.\u001b[0m\u001b[0mlinspace\u001b[0m\u001b[0;34m(\u001b[0m\u001b[0;34m-\u001b[0m\u001b[0;36m20\u001b[0m\u001b[0;34m,\u001b[0m\u001b[0;36m20\u001b[0m\u001b[0;34m,\u001b[0m\u001b[0;36m41\u001b[0m\u001b[0;34m)\u001b[0m\u001b[0;34m\u001b[0m\u001b[0;34m\u001b[0m\u001b[0m\n\u001b[0m\u001b[1;32m      2\u001b[0m \u001b[0;32mfor\u001b[0m \u001b[0mxi\u001b[0m \u001b[0;32min\u001b[0m \u001b[0mx\u001b[0m\u001b[0;34m:\u001b[0m\u001b[0;34m\u001b[0m\u001b[0;34m\u001b[0m\u001b[0m\n\u001b[1;32m      3\u001b[0m   \u001b[0mplt\u001b[0m\u001b[0;34m.\u001b[0m\u001b[0mplot\u001b[0m\u001b[0;34m(\u001b[0m\u001b[0;34m[\u001b[0m\u001b[0;36m0\u001b[0m\u001b[0;34m,\u001b[0m\u001b[0mxi\u001b[0m\u001b[0;34m]\u001b[0m\u001b[0;34m,\u001b[0m\u001b[0;34m[\u001b[0m\u001b[0;36m0\u001b[0m\u001b[0;34m,\u001b[0m\u001b[0mabs\u001b[0m\u001b[0;34m(\u001b[0m\u001b[0mxi\u001b[0m\u001b[0;34m)\u001b[0m\u001b[0;34m**\u001b[0m\u001b[0;36m0.5\u001b[0m\u001b[0;34m]\u001b[0m\u001b[0;34m)\u001b[0m\u001b[0;34m\u001b[0m\u001b[0;34m\u001b[0m\u001b[0m\n\u001b[1;32m      4\u001b[0m \u001b[0mplt\u001b[0m\u001b[0;34m.\u001b[0m\u001b[0mshow\u001b[0m\u001b[0;34m(\u001b[0m\u001b[0;34m)\u001b[0m\u001b[0;34m;\u001b[0m\u001b[0;34m\u001b[0m\u001b[0;34m\u001b[0m\u001b[0m\n",
      "\u001b[0;31mNameError\u001b[0m: name 'np' is not defined"
     ]
    }
   ],
   "source": [
    "x = np.linspace(-20,20,41)\n",
    "for xi in x:\n",
    "  plt.plot([0,xi],[0,abs(xi)**0.5])\n",
    "plt.show();"
   ]
  },
  {
   "cell_type": "code",
   "execution_count": 7,
   "metadata": {
    "ExecuteTime": {
     "end_time": "2019-10-16T21:40:28.579568Z",
     "start_time": "2019-10-16T21:40:28.465533Z"
    }
   },
   "outputs": [
    {
     "name": "stdout",
     "output_type": "stream",
     "text": [
      "Python 3.7.4\r\n"
     ]
    }
   ],
   "source": [
    "!python --version"
   ]
  },
  {
   "cell_type": "code",
   "execution_count": 8,
   "metadata": {
    "ExecuteTime": {
     "end_time": "2019-10-16T21:40:28.617239Z",
     "start_time": "2019-10-16T21:40:28.606373Z"
    }
   },
   "outputs": [
    {
     "data": {
      "text/plain": [
       "4.47213595499958"
      ]
     },
     "execution_count": 8,
     "metadata": {},
     "output_type": "execute_result"
    }
   ],
   "source": [
    "20**0.5"
   ]
  },
  {
   "cell_type": "code",
   "execution_count": 14,
   "metadata": {
    "ExecuteTime": {
     "end_time": "2019-10-16T22:01:57.117262Z",
     "start_time": "2019-10-16T22:01:57.113425Z"
    }
   },
   "outputs": [],
   "source": [
    "r = random.SystemRandom()"
   ]
  },
  {
   "cell_type": "code",
   "execution_count": 15,
   "metadata": {
    "ExecuteTime": {
     "end_time": "2019-10-16T22:01:58.957033Z",
     "start_time": "2019-10-16T22:01:58.954439Z"
    }
   },
   "outputs": [],
   "source": [
    "allDones = []"
   ]
  },
  {
   "cell_type": "code",
   "execution_count": 104,
   "metadata": {
    "ExecuteTime": {
     "end_time": "2019-10-17T00:42:30.492349Z",
     "start_time": "2019-10-17T00:42:30.487374Z"
    }
   },
   "outputs": [],
   "source": [
    "def nextEdge(d,L):\n",
    "  for i in range(1,L+1):\n",
    "    if i != d[i]['value']:\n",
    "      return i\n",
    "  return 0"
   ]
  },
  {
   "cell_type": "code",
   "execution_count": 114,
   "metadata": {
    "ExecuteTime": {
     "end_time": "2019-10-17T00:43:58.764932Z",
     "start_time": "2019-10-17T00:43:58.753647Z"
    }
   },
   "outputs": [],
   "source": [
    "def moveToPosition(d,vd, i,L):\n",
    "#   for j in range(1,L+1):\n",
    "  j = vd[i]\n",
    "#     if d[j]['value'] == i:\n",
    "  while(True):\n",
    "    moved, badmove = bribe(d,vd,j)\n",
    "    assert(not badmove), 'too far of a move'\n",
    "    if (not moved):\n",
    "      break\n",
    "    j -= 1\n",
    "    if j == i:\n",
    "      break\n",
    "  assert(d[i]['value'] == i),'bad move'\n",
    "    \n",
    "  \n",
    "  "
   ]
  },
  {
   "cell_type": "code",
   "execution_count": 115,
   "metadata": {
    "ExecuteTime": {
     "end_time": "2019-10-17T00:43:59.205841Z",
     "start_time": "2019-10-17T00:43:59.203507Z"
    }
   },
   "outputs": [],
   "source": [
    "# def inOrder(d, L):\n",
    "#     l = []\n",
    "#     for i in range(1,L+1):\n",
    "#         if i != d[i]['value']:\n",
    "#             l.append(i)\n",
    "#         else:\n",
    "#           if i > 1 and i < L  and d[i-1]['value'] != i - 1 and d[i+1]['value'] != i + 1:\n",
    "#             l.append(i) # may have to be moved even though in the correct place\n",
    "#     print('out of orders ', l)\n",
    "#     return l\n"
   ]
  },
  {
   "cell_type": "code",
   "execution_count": 116,
   "metadata": {
    "ExecuteTime": {
     "end_time": "2019-10-17T00:43:59.569529Z",
     "start_time": "2019-10-17T00:43:59.548928Z"
    }
   },
   "outputs": [],
   "source": [
    "# Complete the minimumBribes function below.\n",
    "def bribe(d,vd, i):\n",
    "    if d[i]['value'] == i:\n",
    "#        print('value matches')\n",
    "        return (0, False)\n",
    "    if d[i]['value'] < i:\n",
    "#        print('value less than for ' + str(i) + ' of ' + str(d))\n",
    "        v = d[i-1]\n",
    "        d[i - 1] = d[i]\n",
    "        d[i] = v\n",
    "        d[i]['bribes'] += 1\n",
    "        vd[d[i]['value']] += 1\n",
    "        vd[d[i-1]['value']] -= 1\n",
    "        return (1, False) if d[i - 1]['bribes'] <= len(d) else (0, True)\n",
    "\n",
    "#    print('value greater than for ' + str(i) + ' of ' + str(d))\n",
    "    v = d[i + 1]\n",
    "    d[i + 1] = d[i]\n",
    "    d[i + 1]['bribes'] += 1\n",
    "    d[i] = v\n",
    "    vd[d[i+1]['value']] += 1\n",
    "    vd[d[i]['value']] -= 1\n",
    "    return (1, False) if d[i+1]['bribes'] <= len(d) else (0, True)\n"
   ]
  },
  {
   "cell_type": "code",
   "execution_count": 117,
   "metadata": {
    "ExecuteTime": {
     "end_time": "2019-10-17T00:44:00.011617Z",
     "start_time": "2019-10-17T00:43:59.997669Z"
    }
   },
   "outputs": [],
   "source": [
    "def bribes(d,vd):\n",
    "    # print('bribes d', d)\n",
    "    #caller = sys._getframe(1).f_code.co_name\n",
    "    L = len(list(d.keys()))\n",
    "#     l = inOrder(d,L)\n",
    "#     if len(l) == 0:\n",
    "#         # print('bribes returning done (0)')\n",
    "#   #      allDones.append(deepcopy(d))\n",
    "#         return 0\n",
    "#     #d = deepcopy(d)\n",
    "#     lens = []\n",
    "    #r.shuffle(l)\n",
    "    #for i in l: \n",
    "    i = nextEdge(d,L)\n",
    "    if i == 0:\n",
    "      return 0\n",
    "#     print('nextEdge i', i)\n",
    "    moveToPosition(d,vd,i,L)\n",
    "    \n",
    "#         moved, over = bribe(d,i)\n",
    "#         if moved == 1:\n",
    "#             v = bribes(d)\n",
    "#             lens.append((v+1,deepcopy(d)))\n",
    "#     l_ = 0\n",
    "#     if len(lens) > 0:        \n",
    "#       l_,d = functools.reduce(lambda m,v: m if m[0] <= v[0] else v,lens)\n",
    "#     if caller == \"minimumBribes\":\n",
    "# #       print('minimumBribes lens:')\n",
    "# #       for len_ in lens:\n",
    "# #         print(len_)\n",
    "#       #l,d = functools.reduce(lambda m,v: m if m[0] <= v[0] else v,lens)\n",
    "#       print('should be minimumBribes d', d)\n",
    "# #       print('dones:')\n",
    "# #       for done in allDones:\n",
    "# #         print(done)\n",
    "#       return (score(d,L),d)\n",
    "    # print('bribes lens', lens)\n",
    "    return 1\n",
    "            "
   ]
  },
  {
   "cell_type": "code",
   "execution_count": 118,
   "metadata": {
    "ExecuteTime": {
     "end_time": "2019-10-17T00:44:00.463740Z",
     "start_time": "2019-10-17T00:44:00.457204Z"
    }
   },
   "outputs": [],
   "source": [
    "def score(v,L):\n",
    "  t = 0\n",
    "  for i in range(1, L + 1):\n",
    "    t += v[i]['bribes'] \n",
    "  return t\n",
    "  "
   ]
  },
  {
   "cell_type": "code",
   "execution_count": 119,
   "metadata": {
    "ExecuteTime": {
     "end_time": "2019-10-17T00:44:01.053846Z",
     "start_time": "2019-10-17T00:44:01.036358Z"
    }
   },
   "outputs": [],
   "source": [
    "def minimumBribes(q):\n",
    "    d = {}\n",
    "    vd = {}\n",
    "    for i, q_ in enumerate(q):\n",
    "        d[i + 1] = {'value': q_, 'bribes': 0}\n",
    "        vd[q_] = i+1\n",
    "    print('d',d)\n",
    "    while(True):\n",
    "      v = bribes(d,vd)\n",
    "      if not v:\n",
    "        break\n",
    "    print('output d', d)\n",
    "    L = len(list(d.keys()))\n",
    "    for key in d.keys():\n",
    "        if d[key]['bribes'] > 2:\n",
    "            print('Too chaotic')\n",
    "            return\n",
    "    print(score(d,L))\n",
    "    return"
   ]
  },
  {
   "cell_type": "code",
   "execution_count": 121,
   "metadata": {
    "ExecuteTime": {
     "end_time": "2019-10-17T00:44:21.105566Z",
     "start_time": "2019-10-17T00:44:21.099835Z"
    }
   },
   "outputs": [
    {
     "name": "stdout",
     "output_type": "stream",
     "text": [
      "d {1: {'value': 1, 'bribes': 0}, 2: {'value': 2, 'bribes': 0}, 3: {'value': 5, 'bribes': 0}, 4: {'value': 3, 'bribes': 0}, 5: {'value': 7, 'bribes': 0}, 6: {'value': 8, 'bribes': 0}, 7: {'value': 6, 'bribes': 0}, 8: {'value': 4, 'bribes': 0}}\n",
      "output d {1: {'value': 1, 'bribes': 0}, 2: {'value': 2, 'bribes': 0}, 3: {'value': 3, 'bribes': 0}, 4: {'value': 4, 'bribes': 0}, 5: {'value': 5, 'bribes': 2}, 6: {'value': 6, 'bribes': 1}, 7: {'value': 7, 'bribes': 2}, 8: {'value': 8, 'bribes': 2}}\n",
      "7\n",
      "None\n",
      "d {1: {'value': 2, 'bribes': 0}, 2: {'value': 1, 'bribes': 0}, 3: {'value': 5, 'bribes': 0}, 4: {'value': 3, 'bribes': 0}, 5: {'value': 4, 'bribes': 0}}\n",
      "output d {1: {'value': 1, 'bribes': 0}, 2: {'value': 2, 'bribes': 1}, 3: {'value': 3, 'bribes': 0}, 4: {'value': 4, 'bribes': 0}, 5: {'value': 5, 'bribes': 2}}\n",
      "3\n",
      "None\n"
     ]
    }
   ],
   "source": [
    "print(minimumBribes([1, 2, 5, 3, 7, 8, 6, 4]))\n",
    "print(minimumBribes([2, 1, 5, 3, 4]))"
   ]
  },
  {
   "cell_type": "code",
   "execution_count": 37,
   "metadata": {
    "ExecuteTime": {
     "end_time": "2019-10-16T22:18:30.858181Z",
     "start_time": "2019-10-16T22:18:30.854082Z"
    }
   },
   "outputs": [
    {
     "data": {
      "text/plain": [
       "[3, 2, 1, 4]"
      ]
     },
     "execution_count": 37,
     "metadata": {},
     "output_type": "execute_result"
    }
   ],
   "source": [
    "l = [1,2,3,4]\n",
    "r.shuffle(l)\n",
    "l"
   ]
  },
  {
   "cell_type": "code",
   "execution_count": 38,
   "metadata": {
    "ExecuteTime": {
     "end_time": "2019-10-16T22:18:30.865418Z",
     "start_time": "2019-10-16T22:18:30.859503Z"
    }
   },
   "outputs": [],
   "source": [
    "x = 1\n",
    "y = 2\n",
    "z = 3\n",
    "n = 3\n",
    "zm = 1\n",
    "ym = z + 1\n",
    "xm = ym * (y + 1)\n",
    "target = [[0, 0, 0], [0, 0, 1], [0, 0, 2], [0, 1, 0], [0, 1, 1], [0, 1, 3], [0, 2, 0], [0, 2, 2], [0, 2, 3], [1, 0, 0], [1, 0, 1], [1, 0, 3], [1, 1, 0], [1, 1, 2], [1, 1, 3], [1, 2, 1], [1, 2, 2], [1, 2, 3]]"
   ]
  },
  {
   "cell_type": "code",
   "execution_count": 39,
   "metadata": {
    "ExecuteTime": {
     "end_time": "2019-10-16T22:18:30.872802Z",
     "start_time": "2019-10-16T22:18:30.866887Z"
    }
   },
   "outputs": [
    {
     "name": "stdout",
     "output_type": "stream",
     "text": [
      "[[0, 0, 0], [0, 0, 1], [0, 0, 2], [0, 1, 0], [0, 1, 1], [0, 1, 3], [0, 2, 0], [0, 2, 2], [0, 2, 3], [1, 0, 0], [1, 0, 1], [1, 0, 3], [1, 1, 0], [1, 1, 2], [1, 1, 3], [1, 2, 1], [1, 2, 2], [1, 2, 3]]\n"
     ]
    }
   ],
   "source": [
    "arr = [[[[x_,y_,z_] for x_ in range(x+1) if x_ + y_ + z_ != n] for \\\n",
    "  y_ in range(y+1)] for z_ in range(z+1)]\n",
    "flat_list = [item for sublist in arr for item in sublist]\n",
    "flat_list1 = [item for sublist in flat_list for item in sublist]\n",
    "sort = sorted(flat_list1, key=lambda e: e[0] * xm + e[1] * ym + e[2] * zm) \n",
    "#print(flat_list1)\n",
    "print(sort)\n"
   ]
  },
  {
   "cell_type": "code",
   "execution_count": 40,
   "metadata": {
    "ExecuteTime": {
     "end_time": "2019-10-16T22:18:32.671105Z",
     "start_time": "2019-10-16T22:18:32.668073Z"
    }
   },
   "outputs": [
    {
     "name": "stdout",
     "output_type": "stream",
     "text": [
      "[[0, 0, 0], [0, 0, 1], [0, 0, 2], [0, 1, 0], [0, 1, 1], [0, 1, 3], [0, 2, 0], [0, 2, 2], [0, 2, 3], [1, 0, 0], [1, 0, 1], [1, 0, 3], [1, 1, 0], [1, 1, 2], [1, 1, 3], [1, 2, 1], [1, 2, 2], [1, 2, 3]]\n"
     ]
    }
   ],
   "source": [
    "print(target)"
   ]
  },
  {
   "cell_type": "code",
   "execution_count": null,
   "metadata": {
    "ExecuteTime": {
     "start_time": "2019-10-16T20:47:39.808Z"
    }
   },
   "outputs": [],
   "source": [
    "N, M = map(int, input().split())\n",
    "A = numpy.array([input().split() for _ in range(N)],int)"
   ]
  },
  {
   "cell_type": "code",
   "execution_count": 163,
   "metadata": {
    "ExecuteTime": {
     "end_time": "2019-10-18T01:32:47.483244Z",
     "start_time": "2019-10-18T01:32:47.432164Z"
    }
   },
   "outputs": [
    {
     "name": "stdout",
     "output_type": "stream",
     "text": [
      "skipping y: 0 x 0\n",
      "x 1 y 0\n",
      "1 position is i 0 j 1 \n",
      "after =z i 2 j 2 z 2\n",
      "after =z i 1 j 0 z 3\n",
      "duplicate i 0 j 1 z 4\n",
      "after =z i 1 j 2 z 4\n",
      "after =z i 0 j 0 z 5\n",
      "after =z i 2 j 1 z 6\n",
      "duplicate i 1 j 2 z 7\n",
      "after =z i 2 j 0 z 7\n",
      "after =z i 1 j 1 z 8\n",
      "after =z i 0 j 2 z 9\n",
      "f.write [5,1,9]\n",
      "f.write [3,8,4]\n",
      "f.write [7,6,2]\n",
      "skipping y: 0 x 2\n",
      "x 0 y 1\n",
      "1 position is i 1 j 0 \n",
      "after =z i 0 j 1 z 2\n",
      "after =z i 2 j 2 z 3\n",
      "duplicate i 1 j 0 z 4\n",
      "after =z i 2 j 1 z 4\n",
      "after =z i 1 j 2 z 5\n",
      "after =z i 0 j 0 z 6\n",
      "duplicate i 2 j 1 z 7\n",
      "after =z i 0 j 2 z 7\n",
      "after =z i 2 j 0 z 8\n",
      "after =z i 1 j 1 z 9\n",
      "f.write [6,2,7]\n",
      "f.write [1,9,5]\n",
      "f.write [8,4,3]\n",
      "skipping y: 1 x 1\n",
      "x 2 y 1\n",
      "1 position is i 1 j 2 \n",
      "after =z i 0 j 0 z 2\n",
      "after =z i 2 j 1 z 3\n",
      "duplicate i 1 j 2 z 4\n",
      "after =z i 2 j 0 z 4\n",
      "after =z i 1 j 1 z 5\n",
      "after =z i 0 j 2 z 6\n",
      "duplicate i 2 j 0 z 7\n",
      "after =z i 0 j 1 z 7\n",
      "after =z i 2 j 2 z 8\n",
      "after =z i 1 j 0 z 9\n",
      "f.write [2,7,6]\n",
      "f.write [9,5,1]\n",
      "f.write [4,3,8]\n",
      "skipping y: 2 x 0\n",
      "x 1 y 2\n",
      "1 position is i 2 j 1 \n",
      "after =z i 1 j 2 z 2\n",
      "after =z i 0 j 0 z 3\n",
      "duplicate i 2 j 1 z 4\n",
      "after =z i 0 j 2 z 4\n",
      "after =z i 2 j 0 z 5\n",
      "after =z i 1 j 1 z 6\n",
      "duplicate i 0 j 2 z 7\n",
      "after =z i 1 j 0 z 7\n",
      "after =z i 0 j 1 z 8\n",
      "after =z i 2 j 2 z 9\n",
      "f.write [3,8,4]\n",
      "f.write [7,6,2]\n",
      "f.write [5,1,9]\n",
      "skipping y: 2 x 2\n"
     ]
    }
   ],
   "source": [
    "with open(\"perfects.py\", 'w') as F: \n",
    "  F.write('possibles = [\\n')\n",
    "  for y in range(0,3):  \n",
    "    for x in range(0,3):\n",
    "      possibles = [1,5,7,3]\n",
    "      if y*3+x not in possibles:\n",
    "        print(f'skipping y: {y} x {x}')\n",
    "        continue\n",
    "      print(f\"x {x} y {y}\")\n",
    "      b = np.zeros((3,3), dtype=int)\n",
    "      j = x\n",
    "      i = y # i is y and j is x\n",
    "      b[i,j] = 1\n",
    "      print(f'1 position is i {i} j {j} ')\n",
    "      done = [i*3 + j]\n",
    "      for z in range(2,10):\n",
    "#         if done[0] == 5:\n",
    "#           print(f\"done[0] == 5 input i = 1 {i}, j = 2 {j}\")\n",
    "        i -= 1\n",
    "        j += 1\n",
    "#         if done[0] == 5:\n",
    "#           print(f\"done[0] == 5 output  i = 0 {i}, j = 0 {j}\")                \n",
    "#         if i == -1 and j == 3:\n",
    "#           print('rule 5')\n",
    "#           i = 0\n",
    "#           j = 1\n",
    "        if i == -1:\n",
    "          i = 2\n",
    "        if j == 3:\n",
    "          j = 0\n",
    "        while i*3+j in done:\n",
    "        # i + 1; j - 2\n",
    "          print(f\"duplicate i {i} j {j} z {z}\")\n",
    "          i += 1\n",
    "          j -= 2\n",
    "          if j == -2:\n",
    "              j = 1\n",
    "          elif j == -1:\n",
    "            j = 2\n",
    "#           elif j == 3:\n",
    "#             j = 0\n",
    "\n",
    "          if i == -1 and j == 3:\n",
    "            i = 0\n",
    "            j = 1\n",
    "          elif i == -1:\n",
    "            i = 2\n",
    "          elif i == 3:\n",
    "            i = 0\n",
    "        done.append(i*3+j)\n",
    "        b[i,j] = z\n",
    "        print(f\"after =z i {i} j {j} z {z}\")\n",
    "      for I in range(3):\n",
    "        if I == 0:\n",
    "          F.write(\"\\t[\\n\")\n",
    "        F.write(f\"\\t\\t[{b[I,0]},{b[I,1]},{b[I,2]}]\")\n",
    "        print(f\"f.write [{b[I,0]},{b[I,1]},{b[I,2]}]\")\n",
    "\n",
    "        if I == 2:\n",
    "          F.write('\\n\\t],\\n')\n",
    "        else: \n",
    "          F.write(\",\\n\") \n",
    "      F.write(str(b))\n",
    "  F.write(']')\n",
    "    "
   ]
  },
  {
   "cell_type": "code",
   "execution_count": 11,
   "metadata": {
    "ExecuteTime": {
     "end_time": "2019-10-18T16:40:08.516864Z",
     "start_time": "2019-10-18T16:40:08.488808Z"
    }
   },
   "outputs": [],
   "source": [
    "es = {(0,0):{'type': 'corner', 'side0': [(0,1),(0,2)], 'side1': [(1,0),(2,0)], 'diag': [(1,1),(2,2)] },\n",
    "      (0,1):{'type': 'side',   'side0': [(0,0),(0,2)], 'side1': [(1,1),(2,1)], 'diag': [] },\n",
    "      (0,2):{'type': 'corner', 'side0': [(0,0),(0,1)], 'side1': [(2,1),(2,2)], 'diag': [(1,1),(2,0)] },\n",
    "      (1,0):{'type': 'side',   'side0': [(0,0),(2,0)], 'side1': [(1,1),(1,2)], 'diag': [] },\n",
    "      (1,1):{'type': 'center', 'side0': [(1,0),(1,2)], 'side1': [(0,1),(2,1)], 'diag0': [(0,0),(2,2)], \\\n",
    "                                                                               'diag1': [(0,2),(2,0)]},\n",
    "      (1,2):{'type': 'side',   'side0': [(0,2),(2,2)], 'side1': [(1,1),(1,0)], 'diag': [] },\n",
    "      (2,0):{'type': 'corner', 'side0': [(0,0),(0,2)], 'side1': [(1,1),(2,1)], 'diag': [(1,1),(2,0)] },\n",
    "      (2,1):{'type': 'side',   'side0': [(1,1),(0,1)], 'side1': [(2,0),(2,2)], 'diag': [] },\n",
    "      (2,2):{'corner': 'side', 'side0': [(1,2),(0,2)], 'side1': [(2,0),(2,1)], 'diag': [(1,1),(0,0)] }\n",
    "     }"
   ]
  },
  {
   "cell_type": "code",
   "execution_count": null,
   "metadata": {},
   "outputs": [],
   "source": []
  },
  {
   "cell_type": "code",
   "execution_count": null,
   "metadata": {},
   "outputs": [],
   "source": []
  },
  {
   "cell_type": "code",
   "execution_count": null,
   "metadata": {},
   "outputs": [],
   "source": []
  }
 ],
 "metadata": {
  "kernelspec": {
   "display_name": "pymath",
   "language": "python",
   "name": "pymath"
  },
  "language_info": {
   "codemirror_mode": {
    "name": "ipython",
    "version": 3
   },
   "file_extension": ".py",
   "mimetype": "text/x-python",
   "name": "python",
   "nbconvert_exporter": "python",
   "pygments_lexer": "ipython3",
   "version": "3.7.4"
  },
  "latex_envs": {
   "LaTeX_envs_menu_present": true,
   "autoclose": false,
   "autocomplete": true,
   "bibliofile": "biblio.bib",
   "cite_by": "apalike",
   "current_citInitial": 1,
   "eqLabelWithNumbers": true,
   "eqNumInitial": 1,
   "hotkeys": {
    "equation": "Ctrl-E",
    "itemize": "Ctrl-I"
   },
   "labels_anchors": false,
   "latex_user_defs": false,
   "report_style_numbering": false,
   "user_envs_cfg": false
  }
 },
 "nbformat": 4,
 "nbformat_minor": 2
}
