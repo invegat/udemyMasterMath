{
 "cells": [
  {
   "cell_type": "markdown",
   "metadata": {},
   "source": [
    "# BUG HUNT!"
   ]
  },
  {
   "cell_type": "code",
   "execution_count": 37,
   "metadata": {
    "ExecuteTime": {
     "end_time": "2019-10-14T13:41:50.033365Z",
     "start_time": "2019-10-14T13:41:50.024759Z"
    }
   },
   "outputs": [],
   "source": [
    "import sympy as sym\n",
    "import numpy as np\n",
    "from IPython.display import display, Math\n",
    "x2 = 4\n"
   ]
  },
  {
   "cell_type": "code",
   "execution_count": 38,
   "metadata": {
    "ExecuteTime": {
     "end_time": "2019-10-14T13:41:50.277827Z",
     "start_time": "2019-10-14T13:41:50.269112Z"
    }
   },
   "outputs": [],
   "source": [
    "a,b,c,d = sym.symbols('a,b,c,d')\n",
    "\n",
    "expr = 4*b + 5*a*a - c**3 + 5*d\n"
   ]
  },
  {
   "cell_type": "code",
   "execution_count": 39,
   "metadata": {
    "ExecuteTime": {
     "end_time": "2019-10-14T13:41:50.505390Z",
     "start_time": "2019-10-14T13:41:50.496090Z"
    }
   },
   "outputs": [
    {
     "data": {
      "text/plain": [
       "10"
      ]
     },
     "execution_count": 39,
     "metadata": {},
     "output_type": "execute_result"
    }
   ],
   "source": [
    "from math import gcd\n",
    "gcd(30,50)"
   ]
  },
  {
   "cell_type": "code",
   "execution_count": 40,
   "metadata": {
    "ExecuteTime": {
     "end_time": "2019-10-14T13:41:50.722973Z",
     "start_time": "2019-10-14T13:41:50.713000Z"
    }
   },
   "outputs": [
    {
     "name": "stdout",
     "output_type": "stream",
     "text": [
      "2\n"
     ]
    }
   ],
   "source": [
    "x = sym.symbols('x')\n",
    "expr = 4*x - 8\n",
    "print(sym.solve(expr)[0])"
   ]
  },
  {
   "cell_type": "code",
   "execution_count": 133,
   "metadata": {
    "ExecuteTime": {
     "end_time": "2019-10-14T23:49:26.420838Z",
     "start_time": "2019-10-14T23:49:26.402147Z"
    }
   },
   "outputs": [
    {
     "data": {
      "text/latex": [
       "$\\displaystyle \\left[\\begin{matrix}1 & 2\\\\3 & 4\\end{matrix}\\right]$"
      ],
      "text/plain": [
       "<IPython.core.display.Math object>"
      ]
     },
     "metadata": {},
     "output_type": "display_data"
    }
   ],
   "source": [
    "import numpy as np\n",
    "from IPython.display import display, Math\n",
    "\n",
    "A = np.array([(1,2),(3,4)])\n",
    "# make it look nice\n",
    "display(Math(sym.latex(sym.simplify(A))))"
   ]
  },
  {
   "cell_type": "code",
   "execution_count": 42,
   "metadata": {
    "ExecuteTime": {
     "end_time": "2019-10-14T13:41:51.201146Z",
     "start_time": "2019-10-14T13:41:51.190042Z"
    }
   },
   "outputs": [
    {
     "name": "stdout",
     "output_type": "stream",
     "text": [
      "2 was present 2 times\n",
      "11 was present 1 time\n"
     ]
    }
   ],
   "source": [
    "fact_dict = sym.factorint(44)\n",
    "allkeys = fact_dict.keys()\n",
    "for i in allkeys:\n",
    "    print('%g was present %g time%s' %(i, fact_dict[i], 's' if fact_dict[i] > 1 or fact_dict[i] == 0 else ''))\n"
   ]
  },
  {
   "cell_type": "code",
   "execution_count": 43,
   "metadata": {
    "ExecuteTime": {
     "end_time": "2019-10-14T13:41:51.460587Z",
     "start_time": "2019-10-14T13:41:51.445192Z"
    }
   },
   "outputs": [
    {
     "data": {
      "text/latex": [
       "$\\displaystyle 20 - 5 y^{2}$"
      ],
      "text/plain": [
       "20 - 5*y**2"
      ]
     },
     "execution_count": 43,
     "metadata": {},
     "output_type": "execute_result"
    }
   ],
   "source": [
    "x,y = sym.symbols('x,y')\n",
    "\n",
    "expr = 4*x - 5*y**2\n",
    "\n",
    "expr.subs(x,5)\n"
   ]
  },
  {
   "cell_type": "code",
   "execution_count": 44,
   "metadata": {
    "ExecuteTime": {
     "end_time": "2019-10-14T13:41:51.716755Z",
     "start_time": "2019-10-14T13:41:51.709981Z"
    }
   },
   "outputs": [
    {
     "data": {
      "text/latex": [
       "\n",
       "$$\\frac{5}{9}$$\n"
      ],
      "text/plain": [
       "<IPython.core.display.Latex object>"
      ]
     },
     "metadata": {},
     "output_type": "display_data"
    }
   ],
   "source": [
    "%%latex\n",
    "\n",
    "$$\\frac{5}{9}$$\n"
   ]
  },
  {
   "cell_type": "code",
   "execution_count": 45,
   "metadata": {
    "ExecuteTime": {
     "end_time": "2019-10-14T13:41:51.957842Z",
     "start_time": "2019-10-14T13:41:51.952205Z"
    }
   },
   "outputs": [
    {
     "data": {
      "text/plain": [
       "[5, 3, 7]"
      ]
     },
     "execution_count": 45,
     "metadata": {},
     "output_type": "execute_result"
    }
   ],
   "source": [
    "# print the last 3 items from a list\n",
    "lst = [1,3,2,5,4,6,7,5,3,7]\n",
    "lst[-3:]\n"
   ]
  },
  {
   "cell_type": "code",
   "execution_count": 46,
   "metadata": {
    "ExecuteTime": {
     "end_time": "2019-10-14T13:41:52.270736Z",
     "start_time": "2019-10-14T13:41:52.246044Z"
    }
   },
   "outputs": [
    {
     "data": {
      "text/plain": [
       "[-x/2]"
      ]
     },
     "execution_count": 46,
     "metadata": {},
     "output_type": "execute_result"
    }
   ],
   "source": [
    "from sympy.abc import x,y\n",
    "\n",
    "expr = 2*x + 4*y\n",
    "\n",
    "# solve for y\n",
    "sym.solve(expr,y)"
   ]
  },
  {
   "cell_type": "code",
   "execution_count": 47,
   "metadata": {
    "ExecuteTime": {
     "end_time": "2019-10-14T13:41:52.511372Z",
     "start_time": "2019-10-14T13:41:52.500395Z"
    }
   },
   "outputs": [
    {
     "name": "stdout",
     "output_type": "stream",
     "text": [
      "[[1 2]\n",
      " [3 9]]\n"
     ]
    }
   ],
   "source": [
    "import numpy as np\n",
    "\n",
    "A = np.array( [ [1,2],[3,4] ] )\n",
    "\n",
    "# set the element in the second row, second column to 9\n",
    "A[1,1] = 9\n",
    "print(A)"
   ]
  },
  {
   "cell_type": "code",
   "execution_count": 48,
   "metadata": {
    "ExecuteTime": {
     "end_time": "2019-10-14T13:41:52.824243Z",
     "start_time": "2019-10-14T13:41:52.804366Z"
    }
   },
   "outputs": [
    {
     "name": "stdout",
     "output_type": "stream",
     "text": [
      "{'value': 5, 'profit': 5}\n"
     ]
    }
   ],
   "source": [
    "import math\n",
    "prices = [7, 9, 11, 8, 5, 7, 10]\n",
    "\n",
    "m = math.inf\n",
    "p = {'value':-1, 'profit': -1  }\n",
    "for i in range(len(prices)):\n",
    "    if prices[i] < m:\n",
    "      m = prices[i]\n",
    "    else:\n",
    "      if prices[i] - p['value'] > p['profit'] and p['value'] > 0:\n",
    "        p['profit'] = prices[i] - p['value']\n",
    "      if prices[i] - m > p['profit']:\n",
    "        p['value']  = m\n",
    "        p['profit'] = prices[i] - m\n",
    "\n",
    "        \n",
    "print(p)\n"
   ]
  },
  {
   "cell_type": "code",
   "execution_count": 50,
   "metadata": {
    "ExecuteTime": {
     "end_time": "2019-10-14T13:42:51.888876Z",
     "start_time": "2019-10-14T13:42:51.863986Z"
    }
   },
   "outputs": [
    {
     "data": {
      "text/latex": [
       "$\\displaystyle \\left[\\begin{matrix}8 & 4 & 0\\\\10 & 5 & 0\\\\12 & 6 & 0\\end{matrix}\\right]$"
      ],
      "text/plain": [
       "<IPython.core.display.Math object>"
      ]
     },
     "metadata": {},
     "output_type": "display_data"
    }
   ],
   "source": [
    "#np.set_printoptions(precision=0)\n",
    "x,y = sym.symbols('x,y')\n",
    "expr = (4 + x)*(2 - y)\n",
    "erange = range(0,3)\n",
    "a = np.zeros((len(erange),len(erange)),dtype=int)\n",
    "for r in erange:\n",
    "  for c in erange:\n",
    "    a[c,r] = expr.subs({x: c, y: r})\n",
    "#print(a)\n",
    "display(Math(sym.latex(sym.sympify(a))))\n",
    "    "
   ]
  },
  {
   "cell_type": "code",
   "execution_count": 65,
   "metadata": {
    "ExecuteTime": {
     "end_time": "2019-10-14T14:40:51.196926Z",
     "start_time": "2019-10-14T14:40:51.185337Z"
    }
   },
   "outputs": [
    {
     "data": {
      "text/latex": [
       "$\\displaystyle x \\left(x + y\\right) \\left(x^{2} + \\frac{3}{x}\\right)$"
      ],
      "text/plain": [
       "<IPython.core.display.Math object>"
      ]
     },
     "metadata": {},
     "output_type": "display_data"
    },
    {
     "data": {
      "text/latex": [
       "$\\displaystyle x \\left(x + y\\right) \\left(x^{2} + \\frac{3}{x}\\right)$"
      ],
      "text/plain": [
       "<IPython.core.display.Math object>"
      ]
     },
     "metadata": {},
     "output_type": "display_data"
    }
   ],
   "source": [
    "x,y,w = sym.symbols('x,y,w')\n",
    "f1 = x*(y + x)\n",
    "f2 = 3/x + x**2\n",
    "x = w * (4 - w) + w**-2*(1+w)\n",
    "display(Math(sym.latex(sym.sympify(f1*f2))))\n",
    "display(Math(sym.latex(sym.sympify(f2*f1))))\n",
    "assert (sym.sympify(f1*f2) == sym.sympify(f2*f1))"
   ]
  },
  {
   "cell_type": "code",
   "execution_count": 72,
   "metadata": {
    "ExecuteTime": {
     "end_time": "2019-10-14T14:59:48.761514Z",
     "start_time": "2019-10-14T14:59:48.730121Z"
    }
   },
   "outputs": [
    {
     "data": {
      "text/latex": [
       "$\\displaystyle x \\left(4 - 6 x\\right) + 3 x \\quad \\Longleftrightarrow  \\quad - 6 x^{2} + 7 x$"
      ],
      "text/plain": [
       "<IPython.core.display.Math object>"
      ]
     },
     "metadata": {},
     "output_type": "display_data"
    },
    {
     "data": {
      "text/latex": [
       "$\\displaystyle - x \\left(\\frac{2}{x} + \\frac{4}{x^{2}}\\right) + \\frac{x + 4}{4 x} \\quad \\Longleftrightarrow  \\quad - \\frac{7}{4} - \\frac{3}{x}$"
      ],
      "text/plain": [
       "<IPython.core.display.Math object>"
      ]
     },
     "metadata": {},
     "output_type": "display_data"
    },
    {
     "data": {
      "text/latex": [
       "$\\displaystyle \\frac{\\left(x - 3\\right) \\left(x + 3\\right)}{9} \\quad \\Longleftrightarrow  \\quad \\frac{x^{2}}{9} - 1$"
      ],
      "text/plain": [
       "<IPython.core.display.Math object>"
      ]
     },
     "metadata": {},
     "output_type": "display_data"
    }
   ],
   "source": [
    "x = sym.symbols('x')\n",
    "e1 = 2 * x + x*(4 - 6*x) + x\n",
    "e2 = -x * (2/x + 4/x**2) + (4 + x)/(4 * x)\n",
    "e3 = (x + 3)*(x - 3)*x*1/(9 * x)\n",
    "e = [e1, e2, e3 ]\n",
    "for ei in e:\n",
    "  display(Math('%s \\\\quad \\\\Longleftrightarrow  \\\\quad %s'% (sym.latex(ei), sym.latex(sym.expand(ei)))))\n",
    "  \n"
   ]
  },
  {
   "cell_type": "code",
   "execution_count": 89,
   "metadata": {
    "ExecuteTime": {
     "end_time": "2019-10-14T16:43:01.513010Z",
     "start_time": "2019-10-14T16:43:01.504572Z"
    }
   },
   "outputs": [],
   "source": [
    "from math import gcd, sin"
   ]
  },
  {
   "cell_type": "code",
   "execution_count": 76,
   "metadata": {
    "ExecuteTime": {
     "end_time": "2019-10-14T16:01:39.209873Z",
     "start_time": "2019-10-14T16:01:39.189234Z"
    }
   },
   "outputs": [
    {
     "data": {
      "text/latex": [
       "$\\displaystyle gdc(ca,cb) = cgcd(a,b)$"
      ],
      "text/plain": [
       "<IPython.core.display.Math object>"
      ]
     },
     "metadata": {},
     "output_type": "display_data"
    },
    {
     "data": {
      "text/plain": [
       "0"
      ]
     },
     "execution_count": 76,
     "metadata": {},
     "output_type": "execute_result"
    }
   ],
   "source": [
    "a,b,c = sym.symbols('a,b,c')\n",
    "display(Math('gdc(%s%s,%s%s) = %sgcd(%s,%s)' % (c,a,c,b,c,a,b)))\n",
    "math.gcd(7*5, 7*6) - 7 * math.gcd(5,6)\n"
   ]
  },
  {
   "cell_type": "code",
   "execution_count": 86,
   "metadata": {
    "ExecuteTime": {
     "end_time": "2019-10-14T16:19:18.023888Z",
     "start_time": "2019-10-14T16:19:18.005866Z"
    }
   },
   "outputs": [
    {
     "name": "stdout",
     "output_type": "stream",
     "text": [
      "[[99 99 99 99 99 99 99 99 99 99 99 99 99 99 99]\n",
      " [99 99 99 99 99 99 99 99 99 99 99 99 99 99 99]\n",
      " [99 99 99 99 99 99 99 99 99 99 99 99 99 99 99]\n",
      " [99 99 99 99 99 99 99 99 99 99 99 99 99 99 99]\n",
      " [99 99 99 99 99 99 99 99 99 99 99 99 99 99 99]\n",
      " [99 99 99 99 99 99 99 99 99 99 99 99 99 99 99]\n",
      " [99 99 99 99 99 99 99 99 99 99 99 99 99 99 99]\n",
      " [99 99 99 99 99 99 99 99 99 99 99 99 99 99 99]\n",
      " [99 99 99 99 99 99 99 99 99 99 99 99 99 99 99]\n",
      " [99 99 99 99 99 99 99 99 99 99 99 99 99 99 99]]\n",
      "[[ 1  1  1  1  1  1  1  1  1  1  1  1  1  1  1]\n",
      " [ 1  2  1  2  1  2  1  2  1  2  1  2  1  2  1]\n",
      " [ 1  1  3  1  1  3  1  1  3  1  1  3  1  1  3]\n",
      " [ 1  2  1  4  1  2  1  4  1  2  1  4  1  2  1]\n",
      " [ 1  1  1  1  5  1  1  1  1  5  1  1  1  1  5]\n",
      " [ 1  2  3  2  1  6  1  2  3  2  1  6  1  2  3]\n",
      " [ 1  1  1  1  1  1  7  1  1  1  1  1  1  7  1]\n",
      " [ 1  2  1  4  1  2  1  8  1  2  1  4  1  2  1]\n",
      " [ 1  1  3  1  1  3  1  1  9  1  1  3  1  1  3]\n",
      " [ 1  2  1  2  5  2  1  2  1 10  1  2  1  2  5]]\n"
     ]
    }
   ],
   "source": [
    "r = 10\n",
    "c = 15\n",
    "row = [99] * c\n",
    "a = [row] * r\n",
    "n = np.array(a)\n",
    "print(n)\n",
    "for x in range(c):\n",
    "  for y in range(r):\n",
    "    n[y,x] = gcd(y+1,x+1)\n",
    "print(n)"
   ]
  },
  {
   "cell_type": "code",
   "execution_count": 105,
   "metadata": {
    "ExecuteTime": {
     "end_time": "2019-10-14T17:56:16.205724Z",
     "start_time": "2019-10-14T17:56:16.128467Z"
    }
   },
   "outputs": [
    {
     "data": {
      "text/latex": [
       "$\\displaystyle 4 x - 6 \\quad \\Longleftrightarrow  \\quad \\left[ \\frac{3}{2}\\right]$"
      ],
      "text/plain": [
       "<IPython.core.display.Math object>"
      ]
     },
     "metadata": {},
     "output_type": "display_data"
    },
    {
     "data": {
      "text/latex": [
       "$\\displaystyle x^{2} - 9 \\quad \\Longleftrightarrow  \\quad \\left[ -3, \\  3\\right]$"
      ],
      "text/plain": [
       "<IPython.core.display.Math object>"
      ]
     },
     "metadata": {},
     "output_type": "display_data"
    },
    {
     "data": {
      "text/latex": [
       "$\\displaystyle \\sin{\\left(y \\right)} \\quad \\Longleftrightarrow  \\quad \\left[ 0, \\  \\pi\\right]$"
      ],
      "text/plain": [
       "<IPython.core.display.Math object>"
      ]
     },
     "metadata": {},
     "output_type": "display_data"
    }
   ],
   "source": [
    "x,y = sym.symbols('x,y')\n",
    "\n",
    "e1 = 4*x - 6\n",
    "e2 = sym.sin(y)\n",
    "e3 = x**2 - 9\n",
    "e = [e1, e3 ]\n",
    "for ei in e:\n",
    "  display(Math('%s \\\\quad \\\\Longleftrightarrow  \\\\quad %s'% (sym.latex(ei), sym.latex(sym.solve(ei,x)))))\n",
    "\n",
    "e = [e2 ]  \n",
    "for ei in e:\n",
    "  display(Math('%s \\\\quad \\\\Longleftrightarrow  \\\\quad %s'% (sym.latex(ei), sym.latex(sym.solve(ei,y)))))\n"
   ]
  },
  {
   "cell_type": "code",
   "execution_count": 110,
   "metadata": {
    "ExecuteTime": {
     "end_time": "2019-10-14T18:14:58.864825Z",
     "start_time": "2019-10-14T18:14:58.835850Z"
    }
   },
   "outputs": [
    {
     "name": "stdout",
     "output_type": "stream",
     "text": [
      "2 is a prime number\n",
      "3 is a prime number\n",
      "4 is a composite number with keys [2]\n",
      "5 is a prime number\n",
      "6 is a composite number with keys [2, 3]\n",
      "7 is a prime number\n",
      "8 is a composite number with keys [2]\n",
      "9 is a composite number with keys [3]\n",
      "10 is a composite number with keys [2, 5]\n",
      "11 is a prime number\n",
      "12 is a composite number with keys [2, 3]\n",
      "13 is a prime number\n",
      "14 is a composite number with keys [2, 7]\n",
      "15 is a composite number with keys [3, 5]\n",
      "16 is a composite number with keys [2]\n",
      "17 is a prime number\n",
      "18 is a composite number with keys [2, 3]\n",
      "19 is a prime number\n",
      "20 is a composite number with keys [2, 5]\n",
      "21 is a composite number with keys [3, 7]\n",
      "22 is a composite number with keys [2, 11]\n",
      "23 is a prime number\n",
      "24 is a composite number with keys [2, 3]\n",
      "25 is a composite number with keys [5]\n",
      "26 is a composite number with keys [2, 13]\n",
      "27 is a composite number with keys [3]\n",
      "28 is a composite number with keys [2, 7]\n",
      "29 is a prime number\n",
      "30 is a composite number with keys [2, 3, 5]\n",
      "31 is a prime number\n",
      "32 is a composite number with keys [2]\n",
      "33 is a composite number with keys [3, 11]\n",
      "34 is a composite number with keys [2, 17]\n",
      "35 is a composite number with keys [5, 7]\n",
      "36 is a composite number with keys [2, 3]\n",
      "37 is a prime number\n",
      "38 is a composite number with keys [2, 19]\n",
      "39 is a composite number with keys [3, 13]\n",
      "40 is a composite number with keys [2, 5]\n",
      "41 is a prime number\n",
      "42 is a composite number with keys [2, 3, 7]\n",
      "43 is a prime number\n",
      "44 is a composite number with keys [2, 11]\n",
      "45 is a composite number with keys [3, 5]\n",
      "46 is a composite number with keys [2, 23]\n",
      "47 is a prime number\n",
      "48 is a composite number with keys [2, 3]\n",
      "49 is a composite number with keys [7]\n",
      "50 is a composite number with keys [2, 5]\n"
     ]
    }
   ],
   "source": [
    "\n",
    "for i in range(2,51):\n",
    "  factors = sym.factorint(i)\n",
    "  if len(factors) == 1 and factors[list(factors.keys())[0]] == 1:\n",
    "    print(f\"{i} is a prime number\")\n",
    "  else:\n",
    "    keys = list(factors.keys())\n",
    "    print (f\"{i} is a composite number with keys {keys}\")"
   ]
  },
  {
   "cell_type": "code",
   "execution_count": 112,
   "metadata": {
    "ExecuteTime": {
     "end_time": "2019-10-14T18:29:03.083582Z",
     "start_time": "2019-10-14T18:29:03.040250Z"
    }
   },
   "outputs": [
    {
     "data": {
      "text/latex": [
       "$\\displaystyle \\frac{22}{17} \\leq x \\wedge x < \\infty$"
      ],
      "text/plain": [
       "(22/17 <= x) & (x < oo)"
      ]
     },
     "execution_count": 112,
     "metadata": {},
     "output_type": "execute_result"
    }
   ],
   "source": [
    "eq = 3*x/2 + (4 - 5 * x)/3 <= 2 - (5*(2-x))/4\n",
    "sym.solve(eq,x)"
   ]
  },
  {
   "cell_type": "code",
   "execution_count": 131,
   "metadata": {
    "ExecuteTime": {
     "end_time": "2019-10-14T23:38:16.689126Z",
     "start_time": "2019-10-14T23:38:16.667165Z"
    }
   },
   "outputs": [],
   "source": [
    "def maxContinuousValue(l):\n",
    "  prev = 0\n",
    "  max = 0\n",
    "  for n in l:\n",
    "    prev += n\n",
    "    if prev > max:\n",
    "      max = prev\n",
    "    elif prev < 0:\n",
    "      prev = 0\n",
    "    \n",
    "  return max   \n",
    "    \n",
    "\n",
    "l = [34, -50, 42, 14, -5, 86]\n",
    "assert (maxContinuousValue(l) == 137)\n",
    "l2 =  [-5, -1, -8, -9]\n",
    "assert (maxContinuousValue(l2) == 0)\n",
    "\n",
    "     "
   ]
  },
  {
   "cell_type": "code",
   "execution_count": 126,
   "metadata": {
    "ExecuteTime": {
     "end_time": "2019-10-14T23:11:44.262103Z",
     "start_time": "2019-10-14T23:11:44.091835Z"
    }
   },
   "outputs": [
    {
     "name": "stdout",
     "output_type": "stream",
     "text": [
      "9\n"
     ]
    }
   ],
   "source": [
    "def getY():\n",
    "  for y in range(5,16):\n",
    "    exprn = x**6 + 2 * x**4 + 6*x  - y\n",
    "    exprd = x**3 + 3\n",
    "    f = sym.fraction(sym.simplify(exprn/exprd))\n",
    "    if f[1] == 1:\n",
    "      return y\n",
    "  return None\n",
    "\n",
    "print(getY())\n",
    "  \n",
    "\n",
    "  "
   ]
  },
  {
   "cell_type": "code",
   "execution_count": 129,
   "metadata": {
    "ExecuteTime": {
     "end_time": "2019-10-14T23:36:32.122832Z",
     "start_time": "2019-10-14T23:36:32.088885Z"
    }
   },
   "outputs": [
    {
     "data": {
      "text/latex": [
       "$\\displaystyle x^{2} + 4 x + 3 \\quad \\Rightarrow  \\quad \\left(x + 1\\right) \\left(x + 3\\right)$"
      ],
      "text/plain": [
       "<IPython.core.display.Math object>"
      ]
     },
     "metadata": {},
     "output_type": "display_data"
    },
    {
     "data": {
      "text/latex": [
       "$\\displaystyle 2 y^{2} - 1 \\quad \\Rightarrow  \\quad \\text{not factorable!}$"
      ],
      "text/plain": [
       "<IPython.core.display.Math object>"
      ]
     },
     "metadata": {},
     "output_type": "display_data"
    },
    {
     "data": {
      "text/latex": [
       "$\\displaystyle 3 y^{2} + 12 y \\quad \\Rightarrow  \\quad 3 y \\left(y + 4\\right)$"
      ],
      "text/plain": [
       "<IPython.core.display.Math object>"
      ]
     },
     "metadata": {},
     "output_type": "display_data"
    }
   ],
   "source": [
    "e1 = x**2 + 4*x + 3\n",
    "e2 = 2 * y**2 - 1\n",
    "e3 = 3*y**2 + 12*y\n",
    "for e in [e1,e2,e3]:\n",
    "  f = sym.factor(e)\n",
    "  if f != e:\n",
    "    display(Math('%s \\\\quad \\\\Rightarrow  \\\\quad %s'% (sym.latex(e), sym.latex(f))))\n",
    "  else:\n",
    "    display(Math('%s \\\\quad \\\\Rightarrow  \\\\quad \\\\text{%s}'% (sym.latex(e), \"not factorable!\")))\n",
    "    "
   ]
  },
  {
   "cell_type": "code",
   "execution_count": null,
   "metadata": {},
   "outputs": [],
   "source": []
  }
 ],
 "metadata": {
  "kernelspec": {
   "display_name": "pymath",
   "language": "python",
   "name": "pymath"
  },
  "language_info": {
   "codemirror_mode": {
    "name": "ipython",
    "version": 3
   },
   "file_extension": ".py",
   "mimetype": "text/x-python",
   "name": "python",
   "nbconvert_exporter": "python",
   "pygments_lexer": "ipython3",
   "version": "3.7.4"
  },
  "latex_envs": {
   "LaTeX_envs_menu_present": true,
   "autoclose": false,
   "autocomplete": true,
   "bibliofile": "biblio.bib",
   "cite_by": "apalike",
   "current_citInitial": 1,
   "eqLabelWithNumbers": true,
   "eqNumInitial": 1,
   "hotkeys": {
    "equation": "Ctrl-E",
    "itemize": "Ctrl-I"
   },
   "labels_anchors": false,
   "latex_user_defs": false,
   "report_style_numbering": false,
   "user_envs_cfg": false
  }
 },
 "nbformat": 4,
 "nbformat_minor": 2
}
