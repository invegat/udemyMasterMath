{
 "cells": [
  {
   "cell_type": "markdown",
   "metadata": {},
   "source": [
    "# COURSE: Master math by coding in Python\n",
    "## SECTION: Introduction to Sympy and LaTeX\n",
    "\n",
    "#### https://www.udemy.com/course/math-with-python/?couponCode=MXC-DISC4ALL\n",
    "#### INSTRUCTOR: sincxpress.com\n",
    "\n",
    "Note about this code: Each video in this section of the course corresponds to a section of code below. Please note that this code roughly matches the code shown in the live recording, but is not exactly the same -- the variable names, order of lines, and parameters may be slightly different. "
   ]
  },
  {
   "cell_type": "code",
   "execution_count": null,
   "metadata": {},
   "outputs": [],
   "source": []
  },
  {
   "cell_type": "markdown",
   "metadata": {},
   "source": [
    "# VIDEO: Intro to sympy, part 1"
   ]
  },
  {
   "cell_type": "code",
   "execution_count": 1,
   "metadata": {
    "ExecuteTime": {
     "end_time": "2019-10-12T16:35:13.041411Z",
     "start_time": "2019-10-12T16:35:12.539099Z"
    }
   },
   "outputs": [],
   "source": [
    "# import the sympy package\n",
    "import sympy as sym\n",
    "\n",
    "# optional setup for \"fancy\" printing (used later)\n",
    "# sym.init_printing()\n",
    "\n",
    "# import additional functions for nice printing\n",
    "from IPython.display import display, Math"
   ]
  },
  {
   "cell_type": "code",
   "execution_count": 2,
   "metadata": {
    "ExecuteTime": {
     "end_time": "2019-10-12T16:35:13.708326Z",
     "start_time": "2019-10-12T16:35:13.679863Z"
    }
   },
   "outputs": [
    {
     "data": {
      "text/latex": [
       "$\\displaystyle x$"
      ],
      "text/plain": [
       "x"
      ]
     },
     "execution_count": 2,
     "metadata": {},
     "output_type": "execute_result"
    }
   ],
   "source": [
    "# create symbolic variables\n",
    "x,y,z = sym.symbols('x,y,z')\n",
    "\n",
    "x\n"
   ]
  },
  {
   "cell_type": "code",
   "execution_count": 3,
   "metadata": {
    "ExecuteTime": {
     "end_time": "2019-10-12T16:35:14.683344Z",
     "start_time": "2019-10-12T16:35:14.678163Z"
    }
   },
   "outputs": [
    {
     "data": {
      "text/latex": [
       "$\\displaystyle x + 4$"
      ],
      "text/plain": [
       "x + 4"
      ]
     },
     "execution_count": 3,
     "metadata": {},
     "output_type": "execute_result"
    }
   ],
   "source": [
    "# x doesn't have a value; it's just a symbol\n",
    "x + 4"
   ]
  },
  {
   "cell_type": "code",
   "execution_count": 4,
   "metadata": {
    "ExecuteTime": {
     "end_time": "2019-10-12T16:35:16.279197Z",
     "start_time": "2019-10-12T16:35:15.740617Z"
    }
   },
   "outputs": [
    {
     "data": {
      "image/png": "[encoded data removed]",
      "text/latex": [
       "$\\displaystyle x + 4$"
      ],
      "text/plain": [
       "x + 4"
      ]
     },
     "execution_count": 4,
     "metadata": {},
     "output_type": "execute_result"
    }
   ],
   "source": [
    "# for \"fancy\" printing (note: you need to run this line only once)\n",
    "sym.init_printing()\n",
    "x + 4"
   ]
  },
  {
   "cell_type": "code",
   "execution_count": 5,
   "metadata": {
    "ExecuteTime": {
     "end_time": "2019-10-12T16:35:17.591741Z",
     "start_time": "2019-10-12T16:35:17.093352Z"
    }
   },
   "outputs": [
    {
     "data": {
      "image/png": "[encoded data removed]",
      "text/latex": [
       "$\\displaystyle x^{y}$"
      ],
      "text/plain": [
       " y\n",
       "x "
      ]
     },
     "metadata": {},
     "output_type": "display_data"
    },
    {
     "data": {
      "image/png": "[encoded data removed]",
      "text/latex": [
       "$\\displaystyle \\frac{y}{z}$"
      ],
      "text/plain": [
       "y\n",
       "─\n",
       "z"
      ]
     },
     "metadata": {},
     "output_type": "display_data"
    }
   ],
   "source": [
    "# more fun...\n",
    "display( x**y )\n",
    "display( y/z )"
   ]
  },
  {
   "cell_type": "code",
   "execution_count": 6,
   "metadata": {
    "ExecuteTime": {
     "end_time": "2019-10-12T16:35:33.093224Z",
     "start_time": "2019-10-12T16:35:32.439984Z"
    }
   },
   "outputs": [
    {
     "data": {
      "image/png": "[encoded data removed]",
      "text/latex": [
       "$\\displaystyle \\sqrt{2}$"
      ],
      "text/plain": [
       "√2"
      ]
     },
     "metadata": {},
     "output_type": "display_data"
    },
    {
     "data": {
      "image/png": "[encoded data removed]",
      "text/latex": [
       "$\\displaystyle 1.4142135623730951$"
      ],
      "text/plain": [
       "1.4142135623730951"
      ]
     },
     "metadata": {},
     "output_type": "display_data"
    }
   ],
   "source": [
    "# let's compare with numpy\n",
    "import numpy as np\n",
    "\n",
    "display(sym.sqrt(2)) # square root in symbolic math\n",
    "display(np.sqrt(2)) # square root in numeric/precision math\n"
   ]
  },
  {
   "cell_type": "markdown",
   "metadata": {},
   "source": [
    "### Exercises"
   ]
  },
  {
   "cell_type": "code",
   "execution_count": 7,
   "metadata": {
    "ExecuteTime": {
     "end_time": "2019-10-12T16:36:23.252967Z",
     "start_time": "2019-10-12T16:36:22.512830Z"
    }
   },
   "outputs": [
    {
     "data": {
      "image/png": "[encoded data removed]",
      "text/latex": [
       "$\\displaystyle x^{2} y$"
      ],
      "text/plain": [
       " 2  \n",
       "x ⋅y"
      ]
     },
     "metadata": {},
     "output_type": "display_data"
    },
    {
     "data": {
      "image/png": "[encoded data removed]",
      "text/latex": [
       "$\\displaystyle 2 x$"
      ],
      "text/plain": [
       "2⋅x"
      ]
     },
     "metadata": {},
     "output_type": "display_data"
    },
    {
     "data": {
      "image/png": "[encoded data removed]",
      "text/latex": [
       "$\\displaystyle x$"
      ],
      "text/plain": [
       "x"
      ]
     },
     "metadata": {},
     "output_type": "display_data"
    }
   ],
   "source": [
    "# 1)\n",
    "display(y*x**2)\n",
    "\n",
    "# 2)\n",
    "display( sym.sqrt(4)*x )\n",
    "\n",
    "# 3)\n",
    "display( sym.sqrt(x)*sym.sqrt(x) )"
   ]
  },
  {
   "cell_type": "markdown",
   "metadata": {},
   "source": [
    "# VIDEO: Intro to Latex"
   ]
  },
  {
   "cell_type": "code",
   "execution_count": 8,
   "metadata": {
    "ExecuteTime": {
     "end_time": "2019-10-12T16:36:35.144293Z",
     "start_time": "2019-10-12T16:36:35.140228Z"
    }
   },
   "outputs": [
    {
     "data": {
      "text/latex": [
       "$\\displaystyle 4+5=7$"
      ],
      "text/plain": [
       "<IPython.core.display.Math object>"
      ]
     },
     "metadata": {},
     "output_type": "display_data"
    }
   ],
   "source": [
    "# basic latex coding is easy:\n",
    "display(Math('4+5=7'))"
   ]
  },
  {
   "cell_type": "code",
   "execution_count": 9,
   "metadata": {
    "ExecuteTime": {
     "end_time": "2019-10-12T16:36:36.220208Z",
     "start_time": "2019-10-12T16:36:36.209451Z"
    },
    "scrolled": true
   },
   "outputs": [
    {
     "data": {
      "text/latex": [
       "$\\displaystyle \\sigma = \\mu \\times \\sqrt{5}$"
      ],
      "text/plain": [
       "<IPython.core.display.Math object>"
      ]
     },
     "metadata": {},
     "output_type": "display_data"
    },
    {
     "data": {
      "text/latex": [
       "$\\displaystyle \\sigma = \\mu \times \\sqrt{5}$"
      ],
      "text/plain": [
       "<IPython.core.display.Math object>"
      ]
     },
     "metadata": {},
     "output_type": "display_data"
    },
    {
     "data": {
      "text/latex": [
       "$\\displaystyle x_n + y^m - z^{m+n}$"
      ],
      "text/plain": [
       "<IPython.core.display.Math object>"
      ]
     },
     "metadata": {},
     "output_type": "display_data"
    },
    {
     "data": {
      "text/latex": [
       "$\\displaystyle \\frac{1+x}{2e^{\\pi}}$"
      ],
      "text/plain": [
       "<IPython.core.display.Math object>"
      ]
     },
     "metadata": {},
     "output_type": "display_data"
    }
   ],
   "source": [
    "# special characters are indicated using \\\\\n",
    "display(Math('\\\\sigma = \\\\mu \\\\times \\\\sqrt{5}'))\n",
    "\n",
    "# outside Python, use one \\\n",
    "display(Math('\\\\sigma = \\\\mu \\times \\\\sqrt{5}'))\n",
    "\n",
    "# subscripts and superscripts\n",
    "display(Math('x_n + y^m - z^{m+n}'))\n",
    "\n",
    "# fractions\n",
    "display(Math('\\\\frac{1+x}{2e^{\\pi}}'))\n",
    "\n",
    "# right-click to change properties"
   ]
  },
  {
   "cell_type": "code",
   "execution_count": 10,
   "metadata": {
    "ExecuteTime": {
     "end_time": "2019-10-12T16:37:56.506354Z",
     "start_time": "2019-10-12T16:37:56.501447Z"
    }
   },
   "outputs": [
    {
     "data": {
      "text/latex": [
       "$\\displaystyle Set x equal to 4$"
      ],
      "text/plain": [
       "<IPython.core.display.Math object>"
      ]
     },
     "metadata": {},
     "output_type": "display_data"
    },
    {
     "data": {
      "text/latex": [
       "$\\displaystyle \\text{Set x equal to 4}$"
      ],
      "text/plain": [
       "<IPython.core.display.Math object>"
      ]
     },
     "metadata": {},
     "output_type": "display_data"
    }
   ],
   "source": [
    "# regular text requires a special tag\n",
    "f = 4\n",
    "display(Math('Set x equal to %g'%f))\n",
    "\n",
    "display(Math('\\\\text{Set x equal to %g}'%f))"
   ]
  },
  {
   "cell_type": "markdown",
   "metadata": {},
   "source": [
    "### Latex code in a markdown cell\n",
    "\n",
    "Note: this is not for evaluating variables or other numerical code!\n",
    "\n",
    "\n",
    "$$ \\frac{1+\\sqrt{2x}}{e^{i\\pi}} $$"
   ]
  },
  {
   "cell_type": "markdown",
   "metadata": {},
   "source": [
    "### Exercises!"
   ]
  },
  {
   "cell_type": "code",
   "execution_count": 11,
   "metadata": {
    "ExecuteTime": {
     "end_time": "2019-10-12T16:38:53.823027Z",
     "start_time": "2019-10-12T16:38:53.814712Z"
    }
   },
   "outputs": [
    {
     "data": {
      "text/latex": [
       "$\\displaystyle 4x+5y-8z=17$"
      ],
      "text/plain": [
       "<IPython.core.display.Math object>"
      ]
     },
     "metadata": {},
     "output_type": "display_data"
    },
    {
     "data": {
      "text/latex": [
       "$\\displaystyle \\sin(2\\pi f t+\\theta)$"
      ],
      "text/plain": [
       "<IPython.core.display.Math object>"
      ]
     },
     "metadata": {},
     "output_type": "display_data"
    },
    {
     "data": {
      "text/latex": [
       "$\\displaystyle e=mc^2$"
      ],
      "text/plain": [
       "<IPython.core.display.Math object>"
      ]
     },
     "metadata": {},
     "output_type": "display_data"
    },
    {
     "data": {
      "text/latex": [
       "$\\displaystyle \\frac{4+5x^2}{(1+x)(1-x)}$"
      ],
      "text/plain": [
       "<IPython.core.display.Math object>"
      ]
     },
     "metadata": {},
     "output_type": "display_data"
    }
   ],
   "source": [
    "# 1) \n",
    "display(Math('4x+5y-8z=17'))\n",
    "\n",
    "# 2) \n",
    "display(Math('\\\\sin(2\\\\pi f t+\\\\theta)'))\n",
    "\n",
    "# 3)\n",
    "display(Math('e=mc^2'))\n",
    "\n",
    "# 4)\n",
    "display(Math('\\\\frac{4+5x^2}{(1+x)(1-x)}'))"
   ]
  },
  {
   "cell_type": "markdown",
   "metadata": {},
   "source": [
    "# VIDEO: Intro to sympy, part 2"
   ]
  },
  {
   "cell_type": "code",
   "execution_count": null,
   "metadata": {},
   "outputs": [],
   "source": [
    "# using Greek characters as variable names\n",
    "\n",
    "mu,alpha,sigma = sym.symbols('mu,alpha,sigma')\n",
    "\n",
    "expr = sym.exp( (mu-alpha)**2/ (2*sigma**2) )\n",
    "\n",
    "display(expr)\n"
   ]
  },
  {
   "cell_type": "code",
   "execution_count": null,
   "metadata": {},
   "outputs": [],
   "source": [
    "# can also use longer and more informative variable names\n",
    "hello = sym.symbols('hello')\n",
    "\n",
    "hello/3\n"
   ]
  },
  {
   "cell_type": "code",
   "execution_count": null,
   "metadata": {},
   "outputs": [],
   "source": [
    "# substituting numbers for variables\n",
    "\n",
    "# don't forget to define variables before using them!\n",
    "display(x+4)\n",
    "\n",
    "(x+4).subs(x,3)"
   ]
  },
  {
   "cell_type": "code",
   "execution_count": null,
   "metadata": {},
   "outputs": [],
   "source": [
    "# substituting multiple variables\n",
    "\n",
    "x,y = sym.symbols('x,y') # can create multiple variables in one line\n",
    "expr = x+y+5\n",
    "\n",
    "# substituting one variable\n",
    "print( expr.subs(x,5) )\n",
    "\n",
    "# substituting multiple variables\n",
    "print( expr.subs({x:5,y:4}) )\n"
   ]
  },
  {
   "cell_type": "code",
   "execution_count": null,
   "metadata": {},
   "outputs": [],
   "source": [
    "# using sympy to print latex code\n",
    "expr = 3/x\n",
    "\n",
    "print( sym.latex(expr) )\n",
    "\n",
    "# notice:\n",
    "print( sym.latex(3/4) )\n",
    "print( sym.latex('3/4') )\n",
    "# but\n",
    "print( sym.latex(sym.sympify('3/4')) )\n"
   ]
  },
  {
   "cell_type": "markdown",
   "metadata": {},
   "source": [
    "### Exercise!"
   ]
  },
  {
   "cell_type": "code",
   "execution_count": null,
   "metadata": {},
   "outputs": [],
   "source": [
    "for i in range(-2,3):\n",
    "    ans = (x+4).subs(x,i**2)\n",
    "    display(Math('\\\\text{With }x=%g:\\; x^2+4 \\\\quad \\\\Rightarrow \\\\quad %g^2+4 =%g' %(i,i,ans)))"
   ]
  },
  {
   "cell_type": "markdown",
   "metadata": {},
   "source": [
    "# VIDEO: Example: Use sympy to understand the law of exponents"
   ]
  },
  {
   "cell_type": "code",
   "execution_count": null,
   "metadata": {},
   "outputs": [],
   "source": [
    "x,y,z = sym.symbols('x,y,z')\n",
    "\n",
    "ex = x**y * x**z\n",
    "\n",
    "display(ex)\n",
    "display( sym.simplify(ex) )\n"
   ]
  },
  {
   "cell_type": "code",
   "execution_count": null,
   "metadata": {},
   "outputs": [],
   "source": [
    "expr1 = x**y * x**z\n",
    "expr2 = x**y / x**z\n",
    "expr3 = x**y * y**z\n",
    "\n",
    "display(Math('%s = %s' %( sym.latex(expr1),sym.latex(sym.simplify(expr1)) ) ))\n",
    "display(Math('%s = %s' %( sym.latex(expr2),sym.latex(sym.simplify(expr2)) ) ))\n",
    "display(Math('%s = %s' %( sym.latex(expr3),sym.latex(sym.simplify(expr3)) ) ))\n"
   ]
  },
  {
   "cell_type": "code",
   "execution_count": null,
   "metadata": {},
   "outputs": [],
   "source": [
    "# using sym.Eq\n",
    "\n",
    "sym.Eq(4,2+2)"
   ]
  },
  {
   "cell_type": "code",
   "execution_count": null,
   "metadata": {},
   "outputs": [],
   "source": [
    "display( sym.Eq(x-3,4) )\n",
    "\n",
    "# using variables\n",
    "lhs = x-3\n",
    "rhs = x\n",
    "display( sym.Eq(lhs,rhs) )"
   ]
  },
  {
   "cell_type": "code",
   "execution_count": null,
   "metadata": {},
   "outputs": [],
   "source": [
    "lhs = x-3\n",
    "rhs = x+4#-7\n",
    "display( sym.Eq(lhs,rhs) )\n",
    "\n",
    "# or\n",
    "sym.Eq( lhs-rhs )"
   ]
  },
  {
   "cell_type": "code",
   "execution_count": null,
   "metadata": {},
   "outputs": [],
   "source": [
    "display( sym.Eq(expr1,expr1) )\n",
    "\n",
    "# but...\n",
    "display( sym.Eq(expr1 - sym.simplify(expr1)) )\n",
    "\n",
    "display( sym.Eq(sym.expand(  expr1-sym.simplify(expr1)  )) )\n"
   ]
  },
  {
   "cell_type": "code",
   "execution_count": null,
   "metadata": {},
   "outputs": [],
   "source": [
    "# btw, there's also a powsimp function:\n",
    "display( sym.powsimp(expr1) )\n",
    "\n",
    "# and its converse\n",
    "res = sym.powsimp(expr1)\n",
    "display( sym.expand_power_exp(res) )"
   ]
  },
  {
   "cell_type": "markdown",
   "metadata": {},
   "source": [
    "# VIDEO: Sympy and LaTex: Bug hunt!"
   ]
  },
  {
   "cell_type": "code",
   "execution_count": null,
   "metadata": {},
   "outputs": [],
   "source": [
    "mu,alpha = sym.symbols('mu,alpha')\n",
    "\n",
    "expr = 2*sym.exp(mu**2/alpha)\n",
    "\n",
    "display(Math( sym.latex(expr) ))"
   ]
  },
  {
   "cell_type": "code",
   "execution_count": null,
   "metadata": {},
   "outputs": [],
   "source": [
    "Math('1234 + \\\\frac{3x}{\\sin(2\\pi t+\\\\theta)}')"
   ]
  },
  {
   "cell_type": "code",
   "execution_count": null,
   "metadata": {},
   "outputs": [],
   "source": [
    "a = '3'\n",
    "b = '4'\n",
    "\n",
    "# answer should be 7\n",
    "print(sym.sympify(a)+sym.sympify(b))\n"
   ]
  },
  {
   "cell_type": "code",
   "execution_count": null,
   "metadata": {},
   "outputs": [],
   "source": [
    "x = sym.symbols('x')\n",
    "sym.solve( 4*x - 2 )"
   ]
  },
  {
   "cell_type": "code",
   "execution_count": null,
   "metadata": {},
   "outputs": [],
   "source": [
    "# part 1 of 2\n",
    "\n",
    "q = x**2\n",
    "r = x**2\n",
    "\n",
    "display(q)\n",
    "display(r)"
   ]
  },
  {
   "cell_type": "code",
   "execution_count": null,
   "metadata": {},
   "outputs": [],
   "source": [
    "# part 2 of 2\n",
    "\n",
    "q,r = sym.symbols('q,r')\n",
    "\n",
    "q = sym.sympify('x^2')\n",
    "r = sym.sympify('x**2')\n",
    "\n",
    "display(Math(sym.latex(q)))\n",
    "display(r)\n",
    "\n",
    "sym.Eq(q,r)"
   ]
  },
  {
   "cell_type": "code",
   "execution_count": null,
   "metadata": {},
   "outputs": [],
   "source": [
    "x = sym.symbols('x')\n",
    "\n",
    "equation = (4*x**2 - 5*x + 10)**(1/2)\n",
    "display(equation)\n",
    "equation.subs(x,3)"
   ]
  },
  {
   "cell_type": "code",
   "execution_count": null,
   "metadata": {},
   "outputs": [],
   "source": [
    "x,y = sym.symbols('x,y')\n",
    "\n",
    "equation = 1/4*x*y**2 - x*(5*x + 10*y**2)**(3)\n",
    "display(equation)"
   ]
  }
 ],
 "metadata": {
  "kernelspec": {
   "display_name": "pymath",
   "language": "python",
   "name": "pymath"
  },
  "language_info": {
   "codemirror_mode": {
    "name": "ipython",
    "version": 3
   },
   "file_extension": ".py",
   "mimetype": "text/x-python",
   "name": "python",
   "nbconvert_exporter": "python",
   "pygments_lexer": "ipython3",
   "version": "3.7.4"
  },
  "latex_envs": {
   "LaTeX_envs_menu_present": true,
   "autoclose": false,
   "autocomplete": true,
   "bibliofile": "biblio.bib",
   "cite_by": "apalike",
   "current_citInitial": 1,
   "eqLabelWithNumbers": true,
   "eqNumInitial": 1,
   "hotkeys": {
    "equation": "Ctrl-E",
    "itemize": "Ctrl-I"
   },
   "labels_anchors": false,
   "latex_user_defs": false,
   "report_style_numbering": false,
   "user_envs_cfg": false
  }
 },
 "nbformat": 4,
 "nbformat_minor": 2
}
